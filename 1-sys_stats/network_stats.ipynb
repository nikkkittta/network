{
 "cells": [
  {
   "cell_type": "code",
   "execution_count": null,
   "id": "daf26430-b2eb-4a27-8d3c-0c5fbe7be554",
   "metadata": {},
   "outputs": [],
   "source": []
  }
 ],
 "metadata": {
  "kernelspec": {
   "display_name": "",
   "name": ""
  },
  "language_info": {
   "name": ""
  }
 },
 "nbformat": 4,
 "nbformat_minor": 5
}
