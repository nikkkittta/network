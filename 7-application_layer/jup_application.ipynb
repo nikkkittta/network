{
 "cells": [
  {
   "cell_type": "code",
   "execution_count": 1,
   "id": "3626f207-711b-41d5-ba67-598553644e42",
   "metadata": {},
   "outputs": [
    {
     "name": "stdout",
     "output_type": "stream",
     "text": [
      "GET-request successful!\n",
      "Page content: \n",
      "[\n",
      "  {\n",
      "    \"userId\": 1,\n",
      "    \"id\": 1,\n",
      "    \"title\": \"sunt aut facere repellat provident occaecati excepturi optio reprehenderit\",\n",
      "    \"body\": \"quia et suscipit\\nsuscipit recusandae consequuntur expedita et cum\\nreprehenderit molestiae ut ut quas totam\\nnostrum rerum est autem sunt rem eveniet architecto\"\n",
      "  },\n",
      "  {\n",
      "    \"userId\": 1,\n",
      "    \"id\": 2,\n",
      "    \"title\": \"qui est esse\",\n",
      "    \"body\": \"est rerum tempore vitae\\nsequi sint nihil reprehenderit dolor beatae ea dolores neque\\nfugiat blanditiis voluptate p\n",
      "\n",
      "POST-request is successful\n",
      "Recieved data: \n",
      "{'title': 'foo', 'body': 'bar', 'userID': 1, 'id': 101}\n"
     ]
    }
   ],
   "source": [
    "import requests\n",
    "\n",
    "get_url = \"https://jsonplaceholder.typicode.com/posts\"\n",
    "\n",
    "# sending GET-request\n",
    "responce_get = requests.get(get_url)\n",
    "\n",
    "# checking answer code\n",
    "if responce_get.status_code == 200:\n",
    "    print(\"GET-request successful!\")\n",
    "    print(\"Page content: \")\n",
    "    print(responce_get.text[:500])\n",
    "else:\n",
    "    print(f\"GET-request error: {responce_get.status_code}\")\n",
    "\n",
    "post_url = \"https://jsonplaceholder.typicode.com/posts\"\n",
    "\n",
    "# data for sending\n",
    "post_data = {\n",
    "    'title' : 'foo',\n",
    "    'body' : 'bar',\n",
    "    'userID' : 1\n",
    "}\n",
    "\n",
    "# sending POST-request\n",
    "responce_post = requests.post(post_url, json=post_data)\n",
    "\n",
    "# checking answer code\n",
    "if responce_post.status_code == 201:\n",
    "    print(\"\\nPOST-request is successful\")\n",
    "    print(\"Recieved data: \")\n",
    "    print(responce_post.json())\n",
    "else:\n",
    "    print(f\"POST-request error: {responce_post.status_code}\")"
   ]
  },
  {
   "cell_type": "code",
   "execution_count": null,
   "id": "c1157c8f-cfe2-4738-903f-005299cd4074",
   "metadata": {},
   "outputs": [],
   "source": []
  }
 ],
 "metadata": {
  "kernelspec": {
   "display_name": "Python 3 (ipykernel)",
   "language": "python",
   "name": "python3"
  },
  "language_info": {
   "codemirror_mode": {
    "name": "ipython",
    "version": 3
   },
   "file_extension": ".py",
   "mimetype": "text/x-python",
   "name": "python",
   "nbconvert_exporter": "python",
   "pygments_lexer": "ipython3",
   "version": "3.13.0"
  }
 },
 "nbformat": 4,
 "nbformat_minor": 5
}
