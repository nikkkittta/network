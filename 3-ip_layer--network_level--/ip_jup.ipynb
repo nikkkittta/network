{
 "cells": [
  {
   "cell_type": "code",
   "execution_count": null,
   "id": "96b802be-fa5c-4eba-8bb2-51910449c8b3",
   "metadata": {},
   "outputs": [],
   "source": [
    "from scapy.all import sniff, IP, IPv6, ICMP\n",
    "\n",
    "#Function for handling captured package\n",
    "def packet_handler(packet):\n",
    "    #check IP layer is availaible\n",
    "    if packet.haslayer(IP):\n",
    "        ip_layer = packet[IP]\n",
    "        print(\"\\n=====IPv4 packet=====\")\n",
    "        print('-' * 40)\n",
    "        print(f\"| {'Version: ':<30} | {ip_layer.version} (IPv4) \")\n",
    "        print(f\"| {'Длина заголовка: ':<30} | {ip_layer.ihl * 4} байт \")\n",
    "        print(f\"| {'Тип обслуживания: ':<30} | {ip_layer.tos} \")\n",
    "        print(f\"| {'Packet lenght: ':<30} | {len(packet)} байт \")\n",
    "        print(f\"| {'Identification ':<30} | {ip_layer.id} \")\n",
    "        print(f\"| {'Flags: ':<30} | {ip_layer.flags} \")\n",
    "        print(f\"| {'Смещение фрагмента: ':<30} | {ip_layer.frag} \")\n",
    "        print(f\"| {'TTL : ':<30} | {ip_layer.ttl} \")\n",
    "        print(f\"| {'Protocol: ':<30} | {ip_layer.proto} (0x{ip_layer.proto:X})\")\n",
    "        print(f\"| {'Checksum: ':<30} | {ip_layer.chksum} \")\n",
    "        print(f\"| {'Source IPv4: ':<30} | {ip_layer.src} \")\n",
    "        print(f\"| {'Destination IPv4: ':<30} | {ip_layer.dst} \")\n",
    "    \n",
    "    elif packet.haslayer(IPv6):\n",
    "        ipv6_layer = packet[IPv6]\n",
    "        print(\"\\n=====IPv6 packet=====\")\n",
    "        print('-' * 40)\n",
    "        print(f\"| {'Version: ':<30} | {ipv6_layer.version} (IPv6) \")\n",
    "        print(f\"| {'Traffic class: ':<30} | {ipv6_layer.tc} \")\n",
    "        print(f\"| {'Flow label: ':<30} | {ipv6_layer.fl} \")\n",
    "        print(f\"| {'Payload lenght : ':<30} | {len(ipv6_layer.payload)} байт \")\n",
    "        print(f\"| {'Next title: ':<30} | {ipv6_layer.nd} (0x{ipv6_layer.nh:X})\")\n",
    "        print(f\"| {'TTL : ':<30} | {ipv6_layer.hlim} \")\n",
    "        print(f\"| {'Source IPv6: ':<30} | {ipv6_layer.src} \")\n",
    "        print(f\"| {'Destination IPv6: ':<30} | {ipv6_layer.dst} \")\n",
    "        print('-' * 40)\n",
    "        \n",
    "#start sniff\n",
    "print(\"Start sniffing package...\")\n",
    "sniff(prn = packet_handler, count = 2) #sniff 2 frames"
   ]
  }
 ],
 "metadata": {
  "kernelspec": {
   "display_name": "Python 3 (ipykernel)",
   "language": "python",
   "name": "python3"
  },
  "language_info": {
   "codemirror_mode": {
    "name": "ipython",
    "version": 3
   },
   "file_extension": ".py",
   "mimetype": "text/x-python",
   "name": "python",
   "nbconvert_exporter": "python",
   "pygments_lexer": "ipython3",
   "version": "3.13.0"
  }
 },
 "nbformat": 4,
 "nbformat_minor": 5
}
