{
 "cells": [
  {
   "cell_type": "code",
   "execution_count": 7,
   "id": "36cbdab6-9480-4e7c-a4de-30fc2f7d6506",
   "metadata": {},
   "outputs": [
    {
     "name": "stdout",
     "output_type": "stream",
     "text": [
      "Интерфейс: Loopback Pseudo-Interface 1\n",
      "  Активен: True\n",
      "  Скорость:  1073 Мбит/с\n",
      "  Duplex mode: Duplex \n",
      "  MTU: 1500\n",
      "\n",
      "Интерфейс: OpenVPN Wintun\n",
      "  Активен: False\n",
      "  Скорость:  4294 Мбит/с\n",
      "  Duplex mode: Duplex \n",
      "  MTU: 65535\n",
      "\n",
      "Интерфейс: OpenVPN TAP-Windows6\n",
      "  Активен: False\n",
      "  Скорость:  1000 Мбит/с\n",
      "  Duplex mode: Duplex \n",
      "  MTU: 1500\n",
      "\n",
      "Интерфейс: OpenVPN Data Channel Offload\n",
      "  Активен: False\n",
      "  Скорость:  1000 Мбит/с\n",
      "  Duplex mode: Duplex \n",
      "  MTU: 1500\n",
      "\n",
      "Интерфейс: Беспроводная сеть\n",
      "  Активен: True\n",
      "  Скорость:  135 Мбит/с\n",
      "  Duplex mode: Duplex \n",
      "  MTU: 1500\n",
      "\n",
      "Интерфейс: Подключение по локальной сети* 9\n",
      "  Активен: False\n",
      "  Скорость:  0 Мбит/с\n",
      "  Duplex mode: Duplex \n",
      "  MTU: 1500\n",
      "\n",
      "Интерфейс: Подключение по локальной сети* 10\n",
      "  Активен: False\n",
      "  Скорость:  0 Мбит/с\n",
      "  Duplex mode: Duplex \n",
      "  MTU: 1500\n",
      "\n"
     ]
    }
   ],
   "source": [
    "import psutil         #библиотека для работы с системными данными\n",
    "\n",
    "interfaces = psutil.net_if_stats()\n",
    "\n",
    "for interface, stats in interfaces.items():\n",
    "    print(f\"Интерфейс: {interface}\")\n",
    "\n",
    "    print(f\"  Активен: {stats.isup}\")\n",
    "\n",
    "    print(f\"  Скорость:  {stats.speed} Мбит/с\")\n",
    "\n",
    "    if stats.duplex == 2:\n",
    "        duplex_mode = 'Duplex'\n",
    "    elif stats.duplex == 1:\n",
    "        duplex_mode = 'Half-duplex'\n",
    "    else:\n",
    "        duplex_mode = 'Unavailable'\n",
    "\n",
    "    print(f\"  Duplex mode: {duplex_mode} \")\n",
    "\n",
    "    print(f\"  MTU: {stats.mtu}\\n\")"
   ]
  },
  {
   "cell_type": "code",
   "execution_count": null,
   "id": "d3a0a0e8-4c15-4f18-ad9c-ece6157992ca",
   "metadata": {},
   "outputs": [],
   "source": []
  },
  {
   "cell_type": "code",
   "execution_count": null,
   "id": "547c057f-5641-47f6-9ef8-53d4ede09030",
   "metadata": {},
   "outputs": [],
   "source": []
  }
 ],
 "metadata": {
  "kernelspec": {
   "display_name": "Python 3 (ipykernel)",
   "language": "python",
   "name": "python3"
  },
  "language_info": {
   "codemirror_mode": {
    "name": "ipython",
    "version": 3
   },
   "file_extension": ".py",
   "mimetype": "text/x-python",
   "name": "python",
   "nbconvert_exporter": "python",
   "pygments_lexer": "ipython3",
   "version": "3.13.0"
  }
 },
 "nbformat": 4,
 "nbformat_minor": 5
}
