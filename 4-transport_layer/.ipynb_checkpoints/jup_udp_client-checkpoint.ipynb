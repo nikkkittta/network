{
 "cells": [
  {
   "cell_type": "code",
   "execution_count": null,
   "id": "45209446-540f-41b0-a521-628a15370447",
   "metadata": {},
   "outputs": [],
   "source": [
    "import socket\n",
    "\n",
    "def run_udp_client():\n",
    "    #initialize UDP socket\n",
    "    client_socket = socket.socket(socket.AF_INET, socket.SOCK_DGRAM)\n",
    "\n",
    "    #Sending datagrams\n",
    "    while (1):\n",
    "        message = input(\"Enter the datagram (or 'exit' for exit) \")\n",
    "        if message.lower() == 'exit':\n",
    "            break\n",
    "        client_socket.sendto(message.encode(), ('localhost', 5003))\n",
    "\n",
    "        #Receive answer from server\n",
    "        data, addr = client_socket.recvfrom(1024)\n",
    "        print(\"Server reply: \", data.decode())\n",
    "\n",
    "    #end of connetion\n",
    "    client_socket.close()\n",
    "\n",
    "run_udp_client()"
   ]
  }
 ],
 "metadata": {
  "kernelspec": {
   "display_name": "Python 3 (ipykernel)",
   "language": "python",
   "name": "python3"
  },
  "language_info": {
   "codemirror_mode": {
    "name": "ipython",
    "version": 3
   },
   "file_extension": ".py",
   "mimetype": "text/x-python",
   "name": "python",
   "nbconvert_exporter": "python",
   "pygments_lexer": "ipython3",
   "version": "3.13.0"
  }
 },
 "nbformat": 4,
 "nbformat_minor": 5
}
