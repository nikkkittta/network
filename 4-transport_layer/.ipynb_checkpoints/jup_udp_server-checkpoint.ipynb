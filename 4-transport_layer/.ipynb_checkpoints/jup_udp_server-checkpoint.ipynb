{
 "cells": [
  {
   "cell_type": "code",
   "execution_count": null,
   "id": "ee34479f-562e-4b3d-a010-d2e68098b47a",
   "metadata": {},
   "outputs": [],
   "source": [
    "import socket\n",
    "\n",
    "def start_udp_server():\n",
    "    #initialize UDP-socket\n",
    "    server_socket = socket.socket(socket.AF_INET, socket.SOCK_DGRAM)\n",
    "    server_socket.bind(('localhost', 5003))\n",
    "    print(\"UDP server starts. Waiting datagrams...\")\n",
    "\n",
    "    #getting and handling datagrams\n",
    "    while (1):\n",
    "        data, addr = server_socket.recvfrom(1024)\n",
    "        datagram = data.decode()\n",
    "        print(f\"Received datagram from {addr} : {datagram}\")\n",
    "        response = f\"Datagram '{datagram}' received\"\n",
    "        server_socket.sendto(response.encode(), addr)\n",
    "\n",
    "start_udp_server()"
   ]
  }
 ],
 "metadata": {
  "kernelspec": {
   "display_name": "Python 3 (ipykernel)",
   "language": "python",
   "name": "python3"
  },
  "language_info": {
   "codemirror_mode": {
    "name": "ipython",
    "version": 3
   },
   "file_extension": ".py",
   "mimetype": "text/x-python",
   "name": "python",
   "nbconvert_exporter": "python",
   "pygments_lexer": "ipython3",
   "version": "3.13.0"
  }
 },
 "nbformat": 4,
 "nbformat_minor": 5
}
