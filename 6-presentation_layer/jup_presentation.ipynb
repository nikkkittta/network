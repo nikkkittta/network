{
 "cells": [
  {
   "cell_type": "code",
   "execution_count": null,
   "id": "4cca5fb6-7d38-4674-8752-1405becefa6f",
   "metadata": {},
   "outputs": [],
   "source": [
    "import gzip\n",
    "import base64\n",
    "from cryptography.fernet import Fernet\n",
    "\n",
    "key = Fernet.generate_key()\n",
    "cipher_suite = Fernet(key)\n",
    "\n",
    "# data fot encryption\n",
    "data = \"Example data for encryption and compression.\" * 5\n",
    "\n",
    "# encryption data\n",
    "encrypted_data = cipher_suite.encrypt(data.encode('utf-8'))\n",
    "print(f\"----Encrypted data:----\\n{base64.urlsafe_b64encode(encrypted_data).decode()}\")\n",
    "print(f\"----Encrypted data size:----\\n{len(encrypted_data)} byte\")\n",
    "\n",
    "# compression data\n",
    "compressed_data = gzip.compress(encrypted_data)\n",
    "print(f\"\\n----Compressing data:----\\n{base64.urlsafe_b64encode(encrypted_data).decode()}\")\n",
    "print(f\"----Compressed data size:----\\n{len(compressed_data)} byte\")\n",
    "\n",
    "# unpacking compsessed data\n",
    "decompressed_data = gzip.decompress(compressed_data)\n",
    "\n",
    "# decryption data\n",
    "decrypted_data = cipher_suite.decrypt(decompressed_data).decode('utf-8')\n",
    "print(f\"----Decryptred data:----\\n{decrypted_data}\")"
   ]
  }
 ],
 "metadata": {
  "kernelspec": {
   "display_name": "Python 3 (ipykernel)",
   "language": "python",
   "name": "python3"
  },
  "language_info": {
   "codemirror_mode": {
    "name": "ipython",
    "version": 3
   },
   "file_extension": ".py",
   "mimetype": "text/x-python",
   "name": "python",
   "nbconvert_exporter": "python",
   "pygments_lexer": "ipython3",
   "version": "3.13.0"
  }
 },
 "nbformat": 4,
 "nbformat_minor": 5
}
