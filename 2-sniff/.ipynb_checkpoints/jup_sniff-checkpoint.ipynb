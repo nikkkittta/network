{
 "cells": [
  {
   "cell_type": "code",
   "execution_count": null,
   "id": "72f8d76d-5601-4936-93ec-7da99b797821",
   "metadata": {},
   "outputs": [],
   "source": [
    "from scapy.all import sniff, Ether\n",
    "\n",
    "def frame_handler(frame):\n",
    "    #проверяем наличие Ethernet frame\n",
    "    if frame.haslayer(Ether):\n",
    "        ethernet_layer = frame[Ether]\n",
    "\n",
    "        #получаем поля Ethernet frame\n",
    "        src_mac =   ethernet_layer.src\n",
    "        dst_mac =   ethernet_layer.dst\n",
    "        eth_type =  ethernet_layer.type\n",
    "        payload =   ethernet_layer.payload\n",
    "\n",
    "        crc = b'\\x00\\x00\\x00\\x00'               #пример контрольной суммы \n",
    "\n",
    "        # Форматируем вывод Ethernet frame(a) в виде таблицы\n",
    "        print(\"\\n ====Ethernet Frame====\")\n",
    "        print(\"-\" * 40)\n",
    "        print(f\"| {'Source MAC adreess: '     : <30} | {src_mac}  (6 bytes)  |\")\n",
    "        print(f\"| {'Destination MAC adreess: ' :<30} | {dst_mac}  (6 bytes)  |\")\n",
    "        print(f\"| {'Protocol type: '           :<30} | {eth_type} (0x{eth_type:X})    (2 bytes) |\")\n",
    "        print(f\"| {'Data field: '              :<30} | {bytes(payload)}  {len(payload)}   bytes  |\")\n",
    "        print(f\"| {'Checksum (CRC): '          :<30} | {crc}  (4 bytes)  |\")\n",
    "        print(f\"| {'Ethernet header size: '    :<30} | {len(ethernet_layer)}  bytes  |\")    \n",
    "        print(\"-\" * 40)\n",
    "\n",
    "\n",
    "#Start sniff frames\n",
    "print(\"Start sniff Ethernet frames.....\\n\")\n",
    "sniff(prn=frame_handler, count = 2)"
   ]
  }
 ],
 "metadata": {
  "kernelspec": {
   "display_name": "Python 3 (ipykernel)",
   "language": "python",
   "name": "python3"
  },
  "language_info": {
   "codemirror_mode": {
    "name": "ipython",
    "version": 3
   },
   "file_extension": ".py",
   "mimetype": "text/x-python",
   "name": "python",
   "nbconvert_exporter": "python",
   "pygments_lexer": "ipython3",
   "version": "3.13.0"
  }
 },
 "nbformat": 4,
 "nbformat_minor": 5
}
