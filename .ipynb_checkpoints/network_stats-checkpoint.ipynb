{
 "cells": [
  {
   "cell_type": "code",
   "execution_count": null,
   "id": "36cbdab6-9480-4e7c-a4de-30fc2f7d6506",
   "metadata": {},
   "outputs": [],
   "source": [
    "import psutil         #библиотека для работы с системными данными\n",
    "\n",
    "interfaces = psutil.net_if_status();import psutil         #библиотека для работы с системными данными\n",
    "\n",
    "for interface, stats in interfaces.items():\n",
    "    print(f\"Интерфейс: {interface}\")\n",
    "\n",
    "    print(f\"  Активен: {stats.isup()}\")\n",
    "\n",
    "    print(f\"Скорость:  {stats.speed} Мбит/с\")\n",
    "\n",
    "    if stats.duplex == 2:\n",
    "        duplex_mode = 'Duplex'\n",
    "    elif stats.duplex == 1:\n",
    "        duplex_mode = 'Half-duplex'\n",
    "    else:\n",
    "        duplex_mode = 'Unavailable'\n",
    "\n",
    "    print(f\"Duplex mode: {duplex_mode} \")\n",
    "\n",
    "    print(f\" MTU: {stats.mtu}\\n\")"
   ]
  }
 ],
 "metadata": {
  "kernelspec": {
   "display_name": "Python 3 (ipykernel)",
   "language": "python",
   "name": "python3"
  },
  "language_info": {
   "codemirror_mode": {
    "name": "ipython",
    "version": 3
   },
   "file_extension": ".py",
   "mimetype": "text/x-python",
   "name": "python",
   "nbconvert_exporter": "python",
   "pygments_lexer": "ipython3",
   "version": "3.13.0"
  }
 },
 "nbformat": 4,
 "nbformat_minor": 5
}
