{
 "cells": [
  {
   "cell_type": "code",
   "execution_count": null,
   "id": "a70df39a-017b-4639-bdf7-828d27925955",
   "metadata": {},
   "outputs": [],
   "source": [
    "ping [IP] - команда для проверки доступности того или иного устройства по IP. Проводится обмен пакетами и измеряетя скорость соединения\n",
    "\n",
    "pathping yandex.com - трассировка маршрута от устройства до заданного адреса. (у меня яндекс был уже на 5 точке)\n",
    "\n"
   ]
  }
 ],
 "metadata": {
  "kernelspec": {
   "display_name": "Python 3 (ipykernel)",
   "language": "python",
   "name": "python3"
  },
  "language_info": {
   "codemirror_mode": {
    "name": "ipython",
    "version": 3
   },
   "file_extension": ".py",
   "mimetype": "text/x-python",
   "name": "python",
   "nbconvert_exporter": "python",
   "pygments_lexer": "ipython3",
   "version": "3.13.0"
  }
 },
 "nbformat": 4,
 "nbformat_minor": 5
}
